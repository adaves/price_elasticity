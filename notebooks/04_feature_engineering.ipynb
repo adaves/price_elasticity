{
  "cells": [
    {
      "cell_type": "raw",
      "metadata": {
        "vscode": {
          "languageId": "raw"
        }
      },
      "source": [
        "# Price Elasticity Analysis - Notebook 4: Feature Engineering\n",
        "\n",
        "This notebook creates features necessary for price elasticity modeling.\n",
        "\n",
        "## Objectives\n",
        "- Create time-based features (seasonality, trends)\n",
        "- Generate lag features for price and demand\n",
        "- Create rolling window statistics\n",
        "- Engineer price elasticity specific features\n",
        "- Prepare feature matrix for modeling\n"
      ]
    },
    {
      "cell_type": "code",
      "execution_count": null,
      "metadata": {},
      "outputs": [],
      "source": [
        "# Import required libraries\n",
        "import pandas as pd\n",
        "import numpy as np\n",
        "import matplotlib.pyplot as plt\n",
        "import seaborn as sns\n",
        "import sys\n",
        "from sklearn.preprocessing import StandardScaler, LabelEncoder\n",
        "from sklearn.feature_selection import SelectKBest, f_regression\n",
        "\n",
        "# Add src to path for custom utilities\n",
        "sys.path.append('../src')\n",
        "from utils.data_helpers import create_time_features, create_lag_features, create_rolling_features\n",
        "from utils.plot_helpers import setup_plot_style\n",
        "\n",
        "# Configure plotting\n",
        "setup_plot_style()\n",
        "\n",
        "print(\"Libraries imported successfully!\")\n"
      ]
    }
  ],
  "metadata": {
    "language_info": {
      "name": "python"
    }
  },
  "nbformat": 4,
  "nbformat_minor": 2
}
