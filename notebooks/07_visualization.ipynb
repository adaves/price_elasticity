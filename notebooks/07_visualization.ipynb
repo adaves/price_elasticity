{
 "cells": [
  {
   "cell_type": "markdown",
   "metadata": {
    "vscode": {
     "languageId": "raw"
    }
   },
   "source": [
    "# Price Elasticity Analysis - Notebook 7: Visualization\n",
    "\n",
    "This notebook creates business-ready visualizations and dashboards for the price elasticity analysis results.\n",
    "\n",
    "## Objectives\n",
    "- Create executive summary visualizations\n",
    "- Build interactive dashboards for stakeholders\n",
    "- Generate pricing scenario analysis charts\n",
    "- Develop presentation-ready graphics\n",
    "- Provide actionable insights through visualization\n"
   ]
  },
  {
   "cell_type": "code",
   "execution_count": null,
   "metadata": {},
   "outputs": [],
   "source": [
    "# Data refreshed: 2025-06-24\n",
    "# Import required libraries\n",
    "import pandas as pd\n",
    "import numpy as np\n",
    "import matplotlib.pyplot as plt\n",
    "import seaborn as sns\n",
    "import sys\n",
    "\n",
    "# Add src to path for custom utilities\n",
    "sys.path.append('../src')\n",
    "from utils.plot_helpers import *\n",
    "from utils.model_helpers import optimize_price_for_revenue, predict_demand_change\n",
    "\n",
    "# Configure plotting\n",
    "setup_plot_style()\n",
    "\n",
    "# Configure plot settings for presentation\n",
    "plt.rcParams['figure.figsize'] = (12, 8)\n",
    "plt.rcParams['font.size'] = 12\n",
    "\n",
    "print(\"Libraries imported successfully!\")\n"
   ]
  }
 ],
 "metadata": {
  "kernelspec": {
   "display_name": "venv",
   "language": "python",
   "name": "python3"
  },
  "language_info": {
   "name": "python",
   "version": "3.13.3"
  }
 },
 "nbformat": 4,
 "nbformat_minor": 2
}