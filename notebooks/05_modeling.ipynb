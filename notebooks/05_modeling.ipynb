{
  "cells": [
    {
      "cell_type": "markdown",
      "metadata": {
        "vscode": {
          "languageId": "raw"
        }
      },
      "source": [
        "# Price Elasticity Analysis - Notebook 5: Modeling\n",
        "\n",
        "This notebook builds and trains price elasticity models using the engineered features.\n",
        "\n",
        "## Objectives\n",
        "- Train multiple regression models for price elasticity\n",
        "- Compare model performance and select best approach\n",
        "- Calculate price elasticity coefficients\n",
        "- Validate model assumptions and robustness\n",
        "- Generate elasticity insights by product category\n"
      ]
    },
    {
      "cell_type": "code",
      "execution_count": null,
      "metadata": {},
      "outputs": [],
      "source": [
        "# Import required libraries\n",
        "import pandas as pd\n",
        "import numpy as np\n",
        "import matplotlib.pyplot as plt\n",
        "import seaborn as sns\n",
        "import sys\n",
        "from sklearn.model_selection import train_test_split, cross_val_score, GridSearchCV\n",
        "from sklearn.linear_model import LinearRegression, Ridge, Lasso, ElasticNet\n",
        "from sklearn.ensemble import RandomForestRegressor\n",
        "from sklearn.metrics import mean_squared_error, mean_absolute_error, r2_score\n",
        "\n",
        "# Add src to path for custom utilities\n",
        "sys.path.append('../src')\n",
        "from utils.model_helpers import *\n",
        "from utils.plot_helpers import setup_plot_style\n",
        "\n",
        "# Configure plotting\n",
        "setup_plot_style()\n",
        "\n",
        "print(\"Libraries imported successfully!\")\n"
      ]
    }
  ],
  "metadata": {
    "kernelspec": {
      "display_name": "venv",
      "language": "python",
      "name": "python3"
    },
    "language_info": {
      "name": "python",
      "version": "3.13.3"
    }
  },
  "nbformat": 4,
  "nbformat_minor": 2
}
