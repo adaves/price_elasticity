{
  "cells": [
    {
      "cell_type": "raw",
      "metadata": {
        "vscode": {
          "languageId": "raw"
        }
      },
      "source": [
        "# Price Elasticity Analysis - Notebook 3: Exploratory Data Analysis\n",
        "\n",
        "This notebook explores the cleaned data to understand patterns and relationships relevant to price elasticity analysis.\n",
        "\n",
        "## Objectives\n",
        "- Explore price and quantity distributions\n",
        "- Analyze temporal patterns and seasonality\n",
        "- Investigate relationships between price and demand\n",
        "- Identify patterns by product category\n",
        "- Generate initial insights for modeling\n"
      ]
    },
    {
      "cell_type": "code",
      "execution_count": null,
      "metadata": {},
      "outputs": [],
      "source": [
        "# Import required libraries\n",
        "import pandas as pd\n",
        "import numpy as np\n",
        "import matplotlib.pyplot as plt\n",
        "import seaborn as sns\n",
        "import sys\n",
        "\n",
        "# Add src to path for custom utilities\n",
        "sys.path.append('../src')\n",
        "from utils.plot_helpers import *\n",
        "\n",
        "# Configure plotting\n",
        "setup_plot_style()\n",
        "\n",
        "print(\"Libraries imported successfully!\")\n"
      ]
    }
  ],
  "metadata": {
    "language_info": {
      "name": "python"
    }
  },
  "nbformat": 4,
  "nbformat_minor": 2
}
