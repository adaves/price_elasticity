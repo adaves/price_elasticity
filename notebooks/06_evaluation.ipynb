{
 "cells": [
  {
   "cell_type": "markdown",
   "metadata": {
    "vscode": {
     "languageId": "raw"
    }
   },
   "source": [
    "# Price Elasticity Analysis - Notebook 6: Model Evaluation\n",
    "\n",
    "This notebook evaluates the trained models and validates the price elasticity results.\n",
    "\n",
    "## Objectives\n",
    "- Evaluate model performance using multiple metrics\n",
    "- Validate elasticity coefficients for business reasonableness\n",
    "- Perform sensitivity analysis and robustness checks\n",
    "- Compare results across different product categories\n",
    "- Generate confidence intervals for elasticity estimates\n"
   ]
  },
  {
   "cell_type": "code",
   "execution_count": null,
   "metadata": {},
   "outputs": [],
   "source": [
    "# Data refreshed: 2025-06-24\n",
    "# Import required libraries\n",
    "import pandas as pd\n",
    "import numpy as np\n",
    "import matplotlib.pyplot as plt\n",
    "import seaborn as sns\n",
    "import sys\n",
    "from sklearn.metrics import mean_squared_error, mean_absolute_error, r2_score\n",
    "from sklearn.model_selection import cross_val_score, validation_curve\n",
    "import warnings\n",
    "warnings.filterwarnings('ignore')\n",
    "\n",
    "# Add src to path for custom utilities\n",
    "sys.path.append('../src')\n",
    "from utils.model_helpers import *\n",
    "from utils.plot_helpers import setup_plot_style\n",
    "\n",
    "# Configure plotting\n",
    "setup_plot_style()\n",
    "\n",
    "print(\"Libraries imported successfully!\")\n"
   ]
  }
 ],
 "metadata": {
  "kernelspec": {
   "display_name": "venv",
   "language": "python",
   "name": "python3"
  },
  "language_info": {
   "name": "python",
   "version": "3.13.3"
  }
 },
 "nbformat": 4,
 "nbformat_minor": 2
}